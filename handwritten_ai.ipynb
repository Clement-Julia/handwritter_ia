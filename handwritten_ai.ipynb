{
 "cells": [
  {
   "cell_type": "code",
   "execution_count": 25,
   "metadata": {},
   "outputs": [
    {
     "name": "stdout",
     "output_type": "stream",
     "text": [
      "Opération terminée avec succès.\n"
     ]
    }
   ],
   "source": [
    "import os\n",
    "import shutil\n",
    "\n",
    "dossier_images = './data/Img/'\n",
    "\n",
    "for fichier in os.listdir(dossier_images):\n",
    "    if os.path.isfile(os.path.join(dossier_images, fichier)):\n",
    "\n",
    "        nom_fichier_sans_extension = os.path.splitext(fichier)[0]\n",
    "        prefixe = nom_fichier_sans_extension.split('-')[0]\n",
    "        \n",
    "        sous_dossier = os.path.join(dossier_images, prefixe)\n",
    "        \n",
    "        if not os.path.exists(sous_dossier):\n",
    "            os.makedirs(sous_dossier)\n",
    "        \n",
    "        # Déplacement du fichier dans le sous-dossier correspondant\n",
    "        shutil.move(os.path.join(dossier_images, fichier), sous_dossier)\n",
    "\n",
    "print(\"Opération terminée avec succès.\")\n"
   ]
  },
  {
   "cell_type": "code",
   "execution_count": 26,
   "metadata": {},
   "outputs": [
    {
     "name": "stdout",
     "output_type": "stream",
     "text": [
      "Opération terminée avec succès.\n"
     ]
    }
   ],
   "source": [
    "# Génération des noms de dossier\n",
    "def generer_noms_dossier():\n",
    "    lettres_maj = [chr(i) for i in range(65, 91)]\n",
    "    lettres_min = [chr(i) for i in range(97, 123)]\n",
    "    chiffres = [str(i) for i in range(10)]\n",
    "    for chiffre in chiffres:\n",
    "        yield 'num_' + chiffre\n",
    "    for lettre_maj in lettres_maj:\n",
    "        yield 'maj_' + lettre_maj\n",
    "    for lettre_min in lettres_min:\n",
    "        yield 'min_' + lettre_min\n",
    "\n",
    "# Parcours des sous-dossiers dans le dossier\n",
    "sous_dossiers = [dossier for dossier in os.listdir(dossier_images) if os.path.isdir(os.path.join(dossier_images, dossier))]\n",
    "noms_dossier = generer_noms_dossier()\n",
    "\n",
    "for ancien_nom, nouveau_nom in zip(sous_dossiers, noms_dossier):\n",
    "    ancien_chemin = os.path.join(dossier_images, ancien_nom)\n",
    "    nouveau_chemin = os.path.join(dossier_images, str(nouveau_nom))\n",
    "    os.rename(ancien_chemin, nouveau_chemin)\n",
    "\n",
    "print(\"Opération terminée avec succès.\")\n"
   ]
  }
 ],
 "metadata": {
  "kernelspec": {
   "display_name": "Python 3",
   "language": "python",
   "name": "python3"
  },
  "language_info": {
   "codemirror_mode": {
    "name": "ipython",
    "version": 3
   },
   "file_extension": ".py",
   "mimetype": "text/x-python",
   "name": "python",
   "nbconvert_exporter": "python",
   "pygments_lexer": "ipython3",
   "version": "3.11.4"
  }
 },
 "nbformat": 4,
 "nbformat_minor": 2
}
