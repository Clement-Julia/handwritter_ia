{
 "cells": [
  {
   "cell_type": "code",
   "execution_count": 38,
   "metadata": {},
   "outputs": [
    {
     "name": "stdout",
     "output_type": "stream",
     "text": [
      "Opération terminée avec succès.\n"
     ]
    }
   ],
   "source": [
    "import os\n",
    "import shutil\n",
    "import random\n",
    "\n",
    "imgPath = './data/Img/'\n",
    "\n",
    "for fichier in os.listdir(imgPath):\n",
    "    if os.path.isfile(os.path.join(imgPath, fichier)):\n",
    "\n",
    "        filename = os.path.splitext(fichier)[0]\n",
    "        prefixe = filename.split('-')[0]\n",
    "        \n",
    "        subFolder = os.path.join(imgPath, prefixe)\n",
    "        \n",
    "        if not os.path.exists(subFolder):\n",
    "            os.makedirs(subFolder)\n",
    "        \n",
    "        # Déplacement du fichier dans le sous-dossier correspondant\n",
    "        shutil.move(os.path.join(imgPath, fichier), subFolder)\n",
    "\n",
    "print(\"Opération terminée avec succès.\")\n"
   ]
  },
  {
   "cell_type": "code",
   "execution_count": 39,
   "metadata": {},
   "outputs": [
    {
     "name": "stdout",
     "output_type": "stream",
     "text": [
      "Opération terminée avec succès.\n"
     ]
    }
   ],
   "source": [
    "# Génération des noms de dossier\n",
    "def generer_noms_dossier():\n",
    "    lettres_maj = [chr(i) for i in range(65, 91)]\n",
    "    lettres_min = [chr(i) for i in range(97, 123)]\n",
    "    chiffres = [str(i) for i in range(10)]\n",
    "    for chiffre in chiffres:\n",
    "        yield 'num_' + chiffre\n",
    "    for lettre_maj in lettres_maj:\n",
    "        yield 'maj_' + lettre_maj\n",
    "    for lettre_min in lettres_min:\n",
    "        yield 'min_' + lettre_min\n",
    "\n",
    "# Parcours des sous-dossiers dans le dossier\n",
    "subsFolders = [dossier for dossier in os.listdir(imgPath) if os.path.isdir(os.path.join(imgPath, dossier))]\n",
    "namesFolder = generer_noms_dossier()\n",
    "\n",
    "for oldName, newName in zip(subsFolders, namesFolder):\n",
    "    oldPath = os.path.join(imgPath, oldName)\n",
    "    newPath = os.path.join(imgPath, str(newName))\n",
    "    os.rename(oldPath, newPath)\n",
    "\n",
    "print(\"Opération terminée avec succès.\")\n"
   ]
  },
  {
   "cell_type": "code",
   "execution_count": 40,
   "metadata": {},
   "outputs": [
    {
     "name": "stdout",
     "output_type": "stream",
     "text": [
      "Opération terminée avec succès.\n"
     ]
    }
   ],
   "source": [
    "trainPath = 'data/train/'\n",
    "\n",
    "if not os.path.exists(trainPath):\n",
    "    os.makedirs(trainPath)\n",
    "\n",
    "for dossier in os.listdir(imgPath):\n",
    "    pathFolder = os.path.join(imgPath, dossier)\n",
    "    if os.path.isdir(pathFolder):\n",
    "        images = os.listdir(pathFolder)\n",
    "\n",
    "        # Calcul du nombre d'images à copier (environ 80%)\n",
    "        nbTotalImg = len(images)\n",
    "        nbCopyImg = int(0.8 * nbTotalImg)\n",
    "\n",
    "        # Sélection aléatoire d'images sans remplacement\n",
    "        copyImg = random.sample(images, nbCopyImg)\n",
    "        \n",
    "        trainFolder = os.path.join(trainPath, dossier)\n",
    "        if not os.path.exists(trainFolder):\n",
    "            os.makedirs(trainFolder)\n",
    "\n",
    "        # Déplacement des images sélectionnées vers img/train\n",
    "        for img in copyImg:\n",
    "            pathSourceImg = os.path.join(pathFolder, img)\n",
    "            pathTargetImg = os.path.join(trainFolder, img)\n",
    "            shutil.move(pathSourceImg, pathTargetImg)\n",
    "\n",
    "print(\"Opération terminée avec succès.\")"
   ]
  },
  {
   "cell_type": "code",
   "execution_count": 41,
   "metadata": {},
   "outputs": [
    {
     "name": "stdout",
     "output_type": "stream",
     "text": [
      "Dossier renommé avec succès.\n"
     ]
    }
   ],
   "source": [
    "# Renomme le dossier 'Img' en 'validation\n",
    "oldFold = './data/Img'\n",
    "newFold = './data/validation'\n",
    "\n",
    "os.rename(oldFold, newFold)\n",
    "\n",
    "print(\"Dossier renommé avec succès.\")"
   ]
  }
 ],
 "metadata": {
  "kernelspec": {
   "display_name": "Python 3",
   "language": "python",
   "name": "python3"
  },
  "language_info": {
   "codemirror_mode": {
    "name": "ipython",
    "version": 3
   },
   "file_extension": ".py",
   "mimetype": "text/x-python",
   "name": "python",
   "nbconvert_exporter": "python",
   "pygments_lexer": "ipython3",
   "version": "3.11.4"
  }
 },
 "nbformat": 4,
 "nbformat_minor": 2
}
